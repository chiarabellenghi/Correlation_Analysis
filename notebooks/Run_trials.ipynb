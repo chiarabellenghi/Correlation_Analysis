{
 "cells": [
  {
   "cell_type": "code",
   "execution_count": 1,
   "id": "413b411d-b689-4adb-94a7-291b47b533b2",
   "metadata": {},
   "outputs": [],
   "source": [
    "# General imports\n",
    "import numpy as np\n",
    "import sys\n",
    "basepath = \"../../../\"\n",
    "sys.path.insert(0, basepath)"
   ]
  },
  {
   "cell_type": "code",
   "execution_count": 2,
   "id": "4fba249b-16b7-4b23-981d-2c5b8a9e6631",
   "metadata": {},
   "outputs": [],
   "source": [
    "# Stuff for plotting\n",
    "import matplotlib as mpl\n",
    "import matplotlib.pyplot as plt\n",
    "mpl.rcParams[\"font.size\"]=18\n",
    "mpl.rcParams[\"font.family\"]=\"sans-serif\"\n",
    "mpl.rcParams[\"text.usetex\"]=True\n",
    "mpl.rc('text.latex', preamble=r'\\usepackage{amsmath}')"
   ]
  },
  {
   "cell_type": "code",
   "execution_count": 3,
   "id": "1eceaf72-dd91-4423-8469-4e52f582cc3e",
   "metadata": {},
   "outputs": [
    {
     "name": "stdout",
     "output_type": "stream",
     "text": [
      "Load 5bzcat.csv\n",
      "\tFound 3469 sources\n"
     ]
    }
   ],
   "source": [
    "#  Load the 5BZCat catalog\n",
    "from lib.data import load_5bzcat, catbins, load_hotspots\n",
    "dpath = \"/Users/chiarabellenghi/PointSource/blazar_hotspots_correlation/data/\"\n",
    "\n",
    "cat = load_5bzcat(dpath)\n",
    "\n",
    "# Load the hotspot list\n",
    "hotspots = load_hotspots(dpath, hemisphere='south')"
   ]
  },
  {
   "cell_type": "code",
   "execution_count": 4,
   "id": "8b396ab9-cdcf-460d-b7eb-f5a0e69ffadf",
   "metadata": {},
   "outputs": [],
   "source": [
    "# Import stuff for the correlation analysis\n",
    "from lib.correlation import Correlator, EventSample"
   ]
  },
  {
   "cell_type": "code",
   "execution_count": null,
   "id": "74e424f2-d371-4c0a-8940-c277bfebe186",
   "metadata": {},
   "outputs": [
    {
     "name": "stdout",
     "output_type": "stream",
     "text": [
      "- Setting galactic plane width to 10.0deg\n",
      "Set scrambling to catalogue\n",
      "Catalogue: 3469 sources\n",
      "Applying cuts to the source catalogue:\n",
      "\tSources in declination range: [-85.  -5.] degrees: 1214.\n",
      "\tApplying galactic plane cut...\n",
      "\tAfter galactic plane cut: 1177\n",
      "\t1177 sources above 0.00 (100.00%)\n",
      "Remove sources that are in no bin:   0.00%\n",
      "Analysis - Initialize with seed 0\n",
      "Applying cuts to the event sample:\n",
      "\tEvents in [-85.  -5.] degrees: 926\n",
      "\tApplying galactic plane cut...\n",
      "\tAfter galactic plane cut: 774\n",
      "After the cut(s), 774 hotspots will be analysed.\n",
      "\tApplying the pvalue threshold cut...\n",
      "\tSpots with -log10p > 4.0: 19\n",
      "After the cut(s), 19 hotspots will be analysed.\n",
      "-- Calling function trials of <lib.correlation.Correlator object at 0x132eefee0>\n"
     ]
    },
    {
     "name": "stderr",
     "output_type": "stream",
     "text": [
      "[Parallel(n_jobs=1)]: Using backend SequentialBackend with 1 concurrent workers.\n"
     ]
    }
   ],
   "source": [
    "# Initialize the Correlator object and the sample of hotspots to analyse.\n",
    "# Note that catbins is useless for our analysis but the framework still requires it.\n",
    "# scramble=0 will generate the pseudo experiment by scrambling the position of the sources only.\n",
    "# boots=6 will generate the trial taking care of preserving the number of source,\n",
    "# the portion of the sky and the latitude cut.\n",
    "seed = 0\n",
    "C = Correlator(\n",
    "    cat, bins=catbins[-1],\n",
    "    seed=seed,\n",
    "    dec_range=(np.radians(-85),np.radians(-5)),\n",
    "    mlat=np.radians(10),\n",
    "    scramble=0, boots=6)\n",
    "hs_sample = EventSample(hotspots)\n",
    "C.add_primary('hotspots', hs_sample)\n",
    "\n",
    "# Compute trials for the best fit point in Sara Buson et al 2022 ApJL 933 L43\n",
    "C.logpVal_thr = 4.0\n",
    "sigma = 0.55\n",
    "hs_sample.add_sigma_field(np.radians(sigma))\n",
    "\n",
    "# The max_shift argument scrambles the sources within a maximum distance\n",
    "# from the original position.\n",
    "trials = C.trials(n_trials=5000, max_shift=np.radians(10)).astype(int)[:,0]"
   ]
  },
  {
   "cell_type": "code",
   "execution_count": null,
   "id": "634f7318-6361-42b9-9d3a-ab9932cf8e05",
   "metadata": {},
   "outputs": [],
   "source": [
    "fig,ax = plt.subplots(figsize=(6,4))\n",
    "\n",
    "counts, bins = np.histogram(trials, bins=np.arange(0,15))\n",
    "binc = 0.5 * (bins[1:] + bins[:-1])-.5\n",
    "counts_norm = counts/np.sum(counts)\n",
    "ax.errorbar(binc, counts_norm, yerr=[np.sqrt(counts)/np.sum(counts),np.sqrt(counts)/np.sum(counts)],\n",
    "             fmt=\"o\", color=\"k\", zorder=10,\n",
    "             label=f\"{trials.size} trials\"\n",
    "            )\n",
    "ax.hist(binc, bins-.5, weights=counts_norm, histtype='step', color='k', lw=2)\n",
    "ax.axvline(observed_ts, color=\"tab:red\", label=\"Observed\", lw=2)\n",
    "\n",
    "ax.set_yscale('log')\n",
    "# ax.set_ylim(1e-5,)\n",
    "# ax.set_xlim(0,10)\n",
    "\n",
    "\n",
    "ax.set_title(f\"Parameters: $L_{{min}}$ = {L}, $r_{{assoc}}$ = {r}°\", pad=10)\n",
    "ax.set_xlabel(\"TS (\\# HS with at least 1 counterpart)\")\n",
    "ax.set_ylabel(\"Counts\")\n",
    "\n",
    "ax.legend(frameon=True, fontsize=16)"
   ]
  }
 ],
 "metadata": {
  "kernelspec": {
   "display_name": "Python 3 (ipykernel)",
   "language": "python",
   "name": "python3"
  },
  "language_info": {
   "codemirror_mode": {
    "name": "ipython",
    "version": 3
   },
   "file_extension": ".py",
   "mimetype": "text/x-python",
   "name": "python",
   "nbconvert_exporter": "python",
   "pygments_lexer": "ipython3",
   "version": "3.10.1"
  }
 },
 "nbformat": 4,
 "nbformat_minor": 5
}
