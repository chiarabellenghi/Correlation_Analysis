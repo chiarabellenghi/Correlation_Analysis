{
 "cells": [
  {
   "cell_type": "code",
   "execution_count": 1,
   "id": "160d117c-dd0f-4ee7-8c91-05b3e6de092e",
   "metadata": {},
   "outputs": [],
   "source": [
    "# General imports\n",
    "import numpy as np\n",
    "import sys\n",
    "basepath = \"../\"\n",
    "sys.path.insert(0, basepath)"
   ]
  },
  {
   "cell_type": "code",
   "execution_count": 2,
   "id": "09ca5978-cbc2-4cb6-9d09-6f9dfadab799",
   "metadata": {},
   "outputs": [],
   "source": [
    "# Stuff for plotting\n",
    "import matplotlib as mpl\n",
    "import matplotlib.pyplot as plt\n",
    "mpl.rcParams[\"font.size\"]=18\n",
    "mpl.rcParams[\"font.family\"]=\"sans-serif\"\n",
    "mpl.rcParams[\"text.usetex\"]=True\n",
    "mpl.rc('text.latex', preamble=r'\\usepackage{amsmath}')"
   ]
  },
  {
   "cell_type": "code",
   "execution_count": 3,
   "id": "98b40450-f009-43b3-b0eb-fea5c9d1d999",
   "metadata": {},
   "outputs": [
    {
     "ename": "ModuleNotFoundError",
     "evalue": "No module named 'lib'",
     "output_type": "error",
     "traceback": [
      "\u001b[0;31m---------------------------------------------------------------------------\u001b[0m",
      "\u001b[0;31mModuleNotFoundError\u001b[0m                       Traceback (most recent call last)",
      "Input \u001b[0;32mIn [3]\u001b[0m, in \u001b[0;36m<cell line: 2>\u001b[0;34m()\u001b[0m\n\u001b[1;32m      1\u001b[0m \u001b[38;5;66;03m#  Load the 5BZCat catalog\u001b[39;00m\n\u001b[0;32m----> 2\u001b[0m \u001b[38;5;28;01mfrom\u001b[39;00m \u001b[38;5;21;01mlib\u001b[39;00m\u001b[38;5;21;01m.\u001b[39;00m\u001b[38;5;21;01mdata\u001b[39;00m \u001b[38;5;28;01mimport\u001b[39;00m load_5bzcat, catbins, load_hotspots\n\u001b[1;32m      3\u001b[0m dpath \u001b[38;5;241m=\u001b[39m \u001b[38;5;124m\"\u001b[39m\u001b[38;5;124m/Users/chiarabellenghi/PointSource/blazar_hotspots_correlation/data/\u001b[39m\u001b[38;5;124m\"\u001b[39m\n\u001b[1;32m      5\u001b[0m cat \u001b[38;5;241m=\u001b[39m load_5bzcat(dpath)\n",
      "\u001b[0;31mModuleNotFoundError\u001b[0m: No module named 'lib'"
     ]
    }
   ],
   "source": [
    "#  Load the 5BZCat catalog\n",
    "from lib.data import load_5bzcat, catbins, load_hotspots\n",
    "dpath = \"/Users/chiarabellenghi/PointSource/blazar_hotspots_correlation/data/\"\n",
    "\n",
    "cat = load_5bzcat(dpath)\n",
    "\n",
    "# Load the hotspot list\n",
    "hotspots = load_hotspots(dpath, hemisphere='south')"
   ]
  },
  {
   "cell_type": "code",
   "execution_count": null,
   "id": "cb62d01b-615c-40c6-8951-e4dba0f51f55",
   "metadata": {},
   "outputs": [],
   "source": [
    "# Import stuff for the correlation analysis\n",
    "from lib.correlation import Correlator, EventSample"
   ]
  },
  {
   "cell_type": "code",
   "execution_count": null,
   "id": "494a3552-78aa-47c7-a840-bd3912ee60a0",
   "metadata": {},
   "outputs": [],
   "source": [
    "# Define that hypothese to test in terms of minimum pValue threshold and association radius\n",
    "# Here we test the same hypotheses that are tested in Sara Buson et al 2022 ApJL 933 L43\n",
    "sigmas = np.linspace(0.4, 0.7, 7)\n",
    "pVal_thrs = np.linspace(3.5, 4.5, 3)"
   ]
  },
  {
   "cell_type": "code",
   "execution_count": null,
   "id": "bbeb58c1-0031-40b4-9467-0adae1f0c4df",
   "metadata": {},
   "outputs": [],
   "source": [
    "# Initialize the Correlator object and the sample of hotspots to analyse.\n",
    "# Note that catbins is useless for our analysis but the framework still requires it.\n",
    "C = Correlator(cat, bins=catbins[-1], dec_range=(np.radians(-85),np.radians(-5)), mlat=np.radians(10))\n",
    "hs_sample = EventSample(hotspots)\n",
    "\n",
    "# Loop over all the hypotheses for the analysis.\n",
    "fract_associated = {}\n",
    "for thr in sorted(pVal_thrs):\n",
    "    C.add_primary('hotspots', hs_sample)\n",
    "    C.logpVal_thr = thr\n",
    "    fract_associated[thr] = []\n",
    "    for sigma in sigmas:\n",
    "        print(\"-------------------------------------------------\")\n",
    "        print(f\"Analysis parameters: L_min = {thr}, r_assoc = {sigma:.2f}°\")\n",
    "        print(\"-------------------------------------------------\")\n",
    "        \n",
    "        hs_sample.add_sigma_field(np.radians(sigma))\n",
    "        \n",
    "        print(\"*******************************************************************\")\n",
    "        print(\n",
    "            \"Fraction of hotspots having at least one counterpart in the 5BZCat: \"\n",
    "            f\"{C()[0]}/{C.primaries['hotspots'].N}\"\n",
    "        )\n",
    "        \n",
    "        hotspots_mask, counterparts_mask = C.get_counterparts(catbins[-1])\n",
    "        fract_associated[thr].append(C()[0]/C.primaries['hotspots'].N * 100)\n",
    "        \n",
    "        print()\n",
    "        print()"
   ]
  },
  {
   "cell_type": "code",
   "execution_count": null,
   "id": "8d75abeb-5c8d-4ba6-8e7d-f738ed6cd064",
   "metadata": {},
   "outputs": [],
   "source": [
    "for thr in sorted(pVal_thrs):\n",
    "    plt.errorbar(sigmas, fract_associated[thr], fmt=\"o\", lw=2, ls=\"-\", label=f\"$L_{{\\mathrm{{min}}}}={thr}$\")\n",
    "\n",
    "plt.xlabel(\"$r_{\\mathrm{assoc}}$\")\n",
    "plt.ylabel(\"Associated hotspots [\\%]\", labelpad=15)\n",
    "plt.legend(ncol=2, frameon=False, loc='lower left', bbox_to_anchor=(0.0,1.))"
   ]
  },
  {
   "cell_type": "code",
   "execution_count": null,
   "id": "0e450506-a721-4d27-bfaa-9ca5ad28cb90",
   "metadata": {},
   "outputs": [],
   "source": []
  }
 ],
 "metadata": {
  "kernelspec": {
   "display_name": "Python 3 (ipykernel)",
   "language": "python",
   "name": "python3"
  },
  "language_info": {
   "codemirror_mode": {
    "name": "ipython",
    "version": 3
   },
   "file_extension": ".py",
   "mimetype": "text/x-python",
   "name": "python",
   "nbconvert_exporter": "python",
   "pygments_lexer": "ipython3",
   "version": "3.10.1"
  }
 },
 "nbformat": 4,
 "nbformat_minor": 5
}
